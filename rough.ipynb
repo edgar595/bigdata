{
 "cells": [
  {
   "cell_type": "markdown",
   "metadata": {},
   "source": [
    "Data Analysis on Football"
   ]
  },
  {
   "cell_type": "code",
   "execution_count": 1,
   "metadata": {},
   "outputs": [
    {
     "name": "stdout",
     "output_type": "stream",
     "text": [
      "        Date       Home Team  Home Team Score  Away Team Score  \\\n",
      "0 2022-08-05  Crystal Palace                0                2   \n",
      "1 2022-08-06     Bournemouth                2                0   \n",
      "2 2022-08-06         Everton                0                1   \n",
      "3 2022-08-06          Fulham                2                2   \n",
      "4 2022-08-06    Leeds United                2                1   \n",
      "\n",
      "                 Away Team  Country  match_id  \n",
      "0                  Arsenal  England         1  \n",
      "1              Aston Villa  England         2  \n",
      "2                  Chelsea  England         3  \n",
      "3                Liverpool  England         4  \n",
      "4  Wolverhampton Wanderers  England         5  \n"
     ]
    }
   ],
   "source": [
    "import pandas as pd\n",
    "\n",
    "# Replace the file path with your actual file path\n",
    "file_path = \"C:/Users/USER/OneDrive/Desktop/data analysis/Python/bigdata/leaguedata.xlsx\"\n",
    "\n",
    "# Read the Excel file into a DataFrame\n",
    "df = pd.read_excel(file_path)\n",
    "\n",
    "# Add a 'match_id' column with values from 1 to the number of rows\n",
    "df['match_id'] = range(1, len(df) + 1)\n",
    "\n",
    "# Display the first few rows of the DataFrame to verify the 'match_id' column\n",
    "print(df.head())"
   ]
  },
  {
   "cell_type": "markdown",
   "metadata": {},
   "source": [
    "Doing A sample with arsenal to see how well the code works"
   ]
  },
  {
   "cell_type": "code",
   "execution_count": 2,
   "metadata": {},
   "outputs": [
    {
     "name": "stdout",
     "output_type": "stream",
     "text": [
      "           Date               Team  Goals Scored  Goals Conceded  \\\n",
      "0    2022-08-05     Crystal Palace             0               2   \n",
      "1    2022-08-05            Arsenal             2               0   \n",
      "2    2022-08-06        Bournemouth             2               0   \n",
      "3    2022-08-06        Aston Villa             0               2   \n",
      "4    2022-08-06            Everton             0               1   \n",
      "...         ...                ...           ...             ...   \n",
      "2097 2023-11-11  Borussia Dortmund             1               2   \n",
      "2098 2023-11-11             Bochum             1               1   \n",
      "2099 2023-11-11            Cologne             1               1   \n",
      "2100 2023-11-10         M'gladbach             4               0   \n",
      "2101 2023-11-10          Wolfsburg             0               4   \n",
      "\n",
      "            Opponent  Match ID Fixture  Country  \n",
      "0            Arsenal         1       H  England  \n",
      "1     Crystal Palace         1       A  England  \n",
      "2        Aston Villa         2       H  England  \n",
      "3        Bournemouth         2       A  England  \n",
      "4            Chelsea         3       H  England  \n",
      "...              ...       ...     ...      ...  \n",
      "2097       Stuttgart      1049       A  Germany  \n",
      "2098         Cologne      1050       H  Germany  \n",
      "2099          Bochum      1050       A  Germany  \n",
      "2100       Wolfsburg      1051       H  Germany  \n",
      "2101      M'gladbach      1051       A  Germany  \n",
      "\n",
      "[2102 rows x 8 columns]\n"
     ]
    }
   ],
   "source": [
    "\n",
    "# Create a list to store DataFrames for home and away teams\n",
    "dfs = []\n",
    "\n",
    "# Iterate through the original DataFrame to populate the DataFrames\n",
    "for index, row in df.iterrows():\n",
    "    home_team = row['Home Team']\n",
    "    away_team = row['Away Team']\n",
    "    date = row['Date']\n",
    "    match_id = row['match_id']\n",
    "    country = row['Country'] \n",
    "    \n",
    "    # Home Team\n",
    "    home_row = {\n",
    "        'Date': date,\n",
    "        'Team': home_team,\n",
    "        'Goals Scored': row['Home Team Score'],\n",
    "        'Goals Conceded': row['Away Team Score'],\n",
    "        'Opponent': away_team,\n",
    "        'Match ID': match_id,\n",
    "        'Fixture': 'H',  # Home\n",
    "        'Country': country  # Add the 'Country' column\n",
    "    }\n",
    "    \n",
    "    # Away Team\n",
    "    away_row = {\n",
    "        'Date': date,\n",
    "        'Team': away_team,\n",
    "        'Goals Scored': row['Away Team Score'],\n",
    "        'Goals Conceded': row['Home Team Score'],\n",
    "        'Opponent': home_team,\n",
    "        'Match ID': match_id,\n",
    "        'Fixture': 'A',\n",
    "        'Country': country  # Add the 'Country' column  # Away\n",
    "    }\n",
    "    \n",
    "    # Append the DataFrames to the list\n",
    "    dfs.extend([pd.DataFrame([home_row]), pd.DataFrame([away_row])])\n",
    "\n",
    "# Concatenate the DataFrames into the transformed DataFrame\n",
    "transformed_df = pd.concat(dfs, ignore_index=True)\n",
    "\n",
    "# Display the first few rows of the transformed DataFrame\n",
    "print(transformed_df)"
   ]
  },
  {
   "cell_type": "code",
   "execution_count": 3,
   "metadata": {},
   "outputs": [
    {
     "name": "stdout",
     "output_type": "stream",
     "text": [
      "           Date               Team  Goals Scored  Goals Conceded  \\\n",
      "0    2022-08-05     Crystal Palace             0               2   \n",
      "1    2022-08-05            Arsenal             2               0   \n",
      "2    2022-08-06        Bournemouth             2               0   \n",
      "3    2022-08-06        Aston Villa             0               2   \n",
      "4    2022-08-06            Everton             0               1   \n",
      "...         ...                ...           ...             ...   \n",
      "2097 2023-11-11  Borussia Dortmund             1               2   \n",
      "2098 2023-11-11             Bochum             1               1   \n",
      "2099 2023-11-11            Cologne             1               1   \n",
      "2100 2023-11-10         M'gladbach             4               0   \n",
      "2101 2023-11-10          Wolfsburg             0               4   \n",
      "\n",
      "            Opponent  Match ID Fixture  Country Result  Points  \n",
      "0            Arsenal         1       H  England      L       0  \n",
      "1     Crystal Palace         1       A  England      W       3  \n",
      "2        Aston Villa         2       H  England      W       3  \n",
      "3        Bournemouth         2       A  England      L       0  \n",
      "4            Chelsea         3       H  England      L       0  \n",
      "...              ...       ...     ...      ...    ...     ...  \n",
      "2097       Stuttgart      1049       A  Germany      L       0  \n",
      "2098         Cologne      1050       H  Germany      D       1  \n",
      "2099          Bochum      1050       A  Germany      D       1  \n",
      "2100       Wolfsburg      1051       H  Germany      W       3  \n",
      "2101      M'gladbach      1051       A  Germany      L       0  \n",
      "\n",
      "[2102 rows x 10 columns]\n",
      "Index(['Date', 'Team', 'Goals Scored', 'Goals Conceded', 'Opponent',\n",
      "       'Match ID', 'Fixture', 'Country', 'Result', 'Points'],\n",
      "      dtype='object')\n"
     ]
    }
   ],
   "source": [
    "# Define a function to calculate match results and assign points\n",
    "def calculate_results(row):\n",
    "    if row['Goals Scored'] > row['Goals Conceded']:\n",
    "        return ('W', 3)\n",
    "    elif row['Goals Scored'] < row['Goals Conceded']:\n",
    "        return ('L', 0)\n",
    "    else:\n",
    "        return ('D', 1)\n",
    "\n",
    "# Apply the function to create 'Result' and 'Points' columns\n",
    "transformed_df[['Result', 'Points']] = transformed_df.apply(calculate_results, axis=1, result_type='expand')\n",
    "\n",
    "# Display the updated DataFrame with 'Result' and 'Points' columns\n",
    "print(transformed_df)\n",
    "print(transformed_df.columns)\n"
   ]
  },
  {
   "cell_type": "code",
   "execution_count": 4,
   "metadata": {},
   "outputs": [
    {
     "name": "stdout",
     "output_type": "stream",
     "text": [
      "           Date               Team  Goals Scored  Goals Conceded  \\\n",
      "0    2022-08-05     Crystal Palace             0               2   \n",
      "1    2022-08-05            Arsenal             2               0   \n",
      "2    2022-08-06        Bournemouth             2               0   \n",
      "3    2022-08-06        Aston Villa             0               2   \n",
      "4    2022-08-06            Everton             0               1   \n",
      "...         ...                ...           ...             ...   \n",
      "2097 2023-11-11  Borussia Dortmund             1               2   \n",
      "2098 2023-11-11             Bochum             1               1   \n",
      "2099 2023-11-11            Cologne             1               1   \n",
      "2100 2023-11-10         M'gladbach             4               0   \n",
      "2101 2023-11-10          Wolfsburg             0               4   \n",
      "\n",
      "            Opponent  Match ID Fixture  Country Result  Points  Streak  \n",
      "0            Arsenal         1       H  England      L       0     0.0  \n",
      "1     Crystal Palace         1       A  England      W       3     1.0  \n",
      "2        Aston Villa         2       H  England      W       3     1.0  \n",
      "3        Bournemouth         2       A  England      L       0     0.0  \n",
      "4            Chelsea         3       H  England      L       0     0.0  \n",
      "...              ...       ...     ...      ...    ...     ...     ...  \n",
      "2097       Stuttgart      1049       A  Germany      L       0     0.0  \n",
      "2098         Cologne      1050       H  Germany      D       1     0.5  \n",
      "2099          Bochum      1050       A  Germany      D       1     0.5  \n",
      "2100       Wolfsburg      1051       H  Germany      W       3     1.0  \n",
      "2101      M'gladbach      1051       A  Germany      L       0     0.0  \n",
      "\n",
      "[2102 rows x 11 columns]\n"
     ]
    }
   ],
   "source": [
    "# Define a function to map 'Result' to 'Streak' values\n",
    "def map_result_to_streak(result):\n",
    "    if result == 'W':\n",
    "        return 1\n",
    "    elif result == 'L':\n",
    "        return 0\n",
    "    elif result == 'D':\n",
    "        return 0.5\n",
    "\n",
    "# Apply the function to create the 'Streak' column\n",
    "transformed_df['Streak'] = transformed_df['Result'].map(map_result_to_streak)\n",
    "\n",
    "# Display the updated DataFrame with the 'Streak' column\n",
    "print(transformed_df)\n"
   ]
  },
  {
   "cell_type": "code",
   "execution_count": 5,
   "metadata": {},
   "outputs": [
    {
     "name": "stdout",
     "output_type": "stream",
     "text": [
      "           Date               Team  Goals Scored  Goals Conceded  \\\n",
      "0    2022-08-05     Crystal Palace             0               2   \n",
      "1    2022-08-05            Arsenal             2               0   \n",
      "13   2022-08-06        Southampton             1               4   \n",
      "11   2022-08-06  Nottingham Forest             0               2   \n",
      "10   2022-08-06          Newcastle             2               0   \n",
      "...         ...                ...           ...             ...   \n",
      "2066 2023-11-12              Lazio             0               0   \n",
      "2067 2023-11-12               Roma             0               0   \n",
      "2068 2023-11-12        Inter Milan             2               0   \n",
      "2070 2023-11-12        Gil Vicente             1               1   \n",
      "2049 2023-11-12    Manchester City             4               4   \n",
      "\n",
      "               Opponent  Match ID Fixture   Country Result  Points  Streak  \\\n",
      "0               Arsenal         1       H   England      L       0     0.0   \n",
      "1        Crystal Palace         1       A   England      W       3     1.0   \n",
      "13    Tottenham Hotspur         7       A   England      L       0     0.0   \n",
      "11            Newcastle         6       A   England      L       0     0.0   \n",
      "10    Nottingham Forest         6       H   England      W       3     1.0   \n",
      "...                 ...       ...     ...       ...    ...     ...     ...   \n",
      "2066               Roma      1034       H     Italy      D       1     0.5   \n",
      "2067              Lazio      1034       A     Italy      D       1     0.5   \n",
      "2068          Frosinone      1035       H     Italy      W       3     1.0   \n",
      "2070            Rio Ave      1036       H  Portugal      D       1     0.5   \n",
      "2049            Chelsea      1025       A   England      D       1     0.5   \n",
      "\n",
      "      Continuous Streak  \n",
      "0                     0  \n",
      "1                     1  \n",
      "13                    0  \n",
      "11                    0  \n",
      "10                    1  \n",
      "...                 ...  \n",
      "2066                  0  \n",
      "2067                  1  \n",
      "2068                  5  \n",
      "2070                  0  \n",
      "2049                  3  \n",
      "\n",
      "[2102 rows x 12 columns]\n"
     ]
    }
   ],
   "source": [
    "# Sort the DataFrame by the 'Date' column in ascending order\n",
    "transformed_df = transformed_df.sort_values(by='Date')\n",
    "\n",
    "# Initialize a dictionary to keep track of each team's streak\n",
    "team_streaks = {}\n",
    "\n",
    "# Initialize an empty list to store the continuous streak values\n",
    "continuous_streak = []\n",
    "\n",
    "# Iterate through the sorted DataFrame\n",
    "for index, row in transformed_df.iterrows():\n",
    "    team = row['Team']\n",
    "    result = row['Result']\n",
    "    \n",
    "    # Check if the team is in the dictionary\n",
    "    if team in team_streaks:\n",
    "        current_streak = team_streaks[team]\n",
    "    else:\n",
    "        current_streak = 0\n",
    "    \n",
    "    if result == 'W':\n",
    "        current_streak += 1\n",
    "    elif result == 'L':\n",
    "        current_streak = 0  # Reset streak on a loss\n",
    "    \n",
    "    # For a draw, don't change the streak\n",
    "    \n",
    "    # Update the dictionary with the new streak value\n",
    "    team_streaks[team] = current_streak\n",
    "    \n",
    "    # Append the current streak to the continuous_streak list\n",
    "    continuous_streak.append(current_streak)\n",
    "\n",
    "# Add the continuous streak as a new column in the DataFrame\n",
    "transformed_df['Continuous Streak'] = continuous_streak\n",
    "\n",
    "# Display the updated DataFrame with the 'Continuous Streak' column\n",
    "print(transformed_df)\n"
   ]
  },
  {
   "cell_type": "markdown",
   "metadata": {},
   "source": [
    "Arsenal Games"
   ]
  },
  {
   "cell_type": "code",
   "execution_count": 6,
   "metadata": {},
   "outputs": [
    {
     "name": "stdout",
     "output_type": "stream",
     "text": [
      "           Date     Team  Goals Scored  Goals Conceded           Opponent  \\\n",
      "800  2023-08-13  Chelsea             1               1          Liverpool   \n",
      "899  2023-08-20  Chelsea             1               3    West Ham United   \n",
      "948  2023-08-25  Chelsea             3               0              Luton   \n",
      "1082 2023-09-02  Chelsea             0               1  Nottingham Forest   \n",
      "1233 2023-09-17  Chelsea             0               0        Bournemouth   \n",
      "1352 2023-09-24  Chelsea             0               1        Aston Villa   \n",
      "1545 2023-10-02  Chelsea             2               0             Fulham   \n",
      "1571 2023-10-07  Chelsea             4               1            Burnley   \n",
      "1680 2023-10-21  Chelsea             2               2            Arsenal   \n",
      "1782 2023-10-28  Chelsea             0               2          Brentford   \n",
      "1983 2023-11-06  Chelsea             4               1  Tottenham Hotspur   \n",
      "2048 2023-11-12  Chelsea             4               4    Manchester City   \n",
      "\n",
      "      Match ID Fixture  Country Result  Points  Streak  Continuous Streak  \\\n",
      "800        401       H  England      D       1     0.5                  0   \n",
      "899        450       A  England      L       0     0.0                  0   \n",
      "948        475       H  England      W       3     1.0                  1   \n",
      "1082       542       H  England      L       0     0.0                  0   \n",
      "1233       617       A  England      D       1     0.5                  0   \n",
      "1352       677       H  England      L       0     0.0                  0   \n",
      "1545       773       A  England      W       3     1.0                  1   \n",
      "1571       786       A  England      W       3     1.0                  2   \n",
      "1680       841       H  England      D       1     0.5                  2   \n",
      "1782       892       H  England      L       0     0.0                  0   \n",
      "1983       992       A  England      W       3     1.0                  1   \n",
      "2048      1025       H  England      D       1     0.5                  1   \n",
      "\n",
      "      Plot Points  \n",
      "800             1  \n",
      "899            -1  \n",
      "948             3  \n",
      "1082           -1  \n",
      "1233            1  \n",
      "1352           -1  \n",
      "1545            3  \n",
      "1571            3  \n",
      "1680            1  \n",
      "1782           -1  \n",
      "1983            3  \n",
      "2048            1  \n",
      "Index(['Date', 'Team', 'Goals Scored', 'Goals Conceded', 'Opponent',\n",
      "       'Match ID', 'Fixture', 'Country', 'Result', 'Points', 'Streak',\n",
      "       'Continuous Streak', 'Plot Points'],\n",
      "      dtype='object')\n"
     ]
    }
   ],
   "source": [
    "import pandas as pd\n",
    "import datetime\n",
    "\n",
    "# Convert the 'Date' column to datetime objects\n",
    "transformed_df['Date'] = pd.to_datetime(transformed_df['Date'])\n",
    "\n",
    "# Define the mapping for points\n",
    "point_mapping = {'W': 3, 'D': 1, 'L': -1}\n",
    "\n",
    "# Apply the mapping to create the \"Plot Points\" column\n",
    "transformed_df['Plot Points'] = transformed_df['Result'].map(point_mapping)\n",
    "\n",
    "\n",
    "# Define the start date\n",
    "start_date = datetime.datetime(2023, 8, 8)\n",
    "\n",
    "# Filter the DataFrame for Manchester City's games from the start date to the current date\n",
    "chelsea_games = transformed_df[(transformed_df['Date'] >= start_date) & (transformed_df['Team'] == 'Chelsea')]\n",
    "\n",
    "# Keep only one match ID per game\n",
    "chelsea_games = chelsea_games.drop_duplicates(subset='Match ID')\n",
    "\n",
    "# Display the filtered DataFrame for Manchester City's games\n",
    "print(chelsea_games)\n",
    "print(chelsea_games.columns)\n"
   ]
  },
  {
   "cell_type": "code",
   "execution_count": 7,
   "metadata": {},
   "outputs": [
    {
     "data": {
      "application/vnd.plotly.v1+json": {
       "config": {
        "plotlyServerURL": "https://plot.ly"
       },
       "data": [
        {
         "alignmentgroup": "True",
         "customdata": [
          [
           1,
           1,
           "Liverpool"
          ],
          [
           1,
           3,
           "West Ham United"
          ],
          [
           3,
           0,
           "Luton"
          ],
          [
           0,
           1,
           "Nottingham Forest"
          ],
          [
           0,
           0,
           "Bournemouth"
          ],
          [
           0,
           1,
           "Aston Villa"
          ],
          [
           2,
           0,
           "Fulham"
          ],
          [
           4,
           1,
           "Burnley"
          ],
          [
           2,
           2,
           "Arsenal"
          ],
          [
           0,
           2,
           "Brentford"
          ],
          [
           4,
           1,
           "Tottenham Hotspur"
          ],
          [
           4,
           4,
           "Manchester City"
          ]
         ],
         "hovertemplate": "Date: %{x}<br>Points: %{y}<br>Result: %{text}<br>Goals Scored: %{customdata[0]}<br>Goals Conceded: %{customdata[1]}<br>Opponent: %{customdata[2]}",
         "legendgroup": "",
         "marker": {
          "color": [
           1,
           0,
           3,
           0,
           1,
           0,
           3,
           3,
           1,
           0,
           3,
           1
          ],
          "coloraxis": "coloraxis",
          "pattern": {
           "shape": ""
          }
         },
         "name": "",
         "offsetgroup": "",
         "orientation": "v",
         "showlegend": false,
         "text": [
          "D",
          "L",
          "W",
          "L",
          "D",
          "L",
          "W",
          "W",
          "D",
          "L",
          "W",
          "D"
         ],
         "textposition": "auto",
         "type": "bar",
         "x": [
          "2023-08-13T00:00:00",
          "2023-08-20T00:00:00",
          "2023-08-25T00:00:00",
          "2023-09-02T00:00:00",
          "2023-09-17T00:00:00",
          "2023-09-24T00:00:00",
          "2023-10-02T00:00:00",
          "2023-10-07T00:00:00",
          "2023-10-21T00:00:00",
          "2023-10-28T00:00:00",
          "2023-11-06T00:00:00",
          "2023-11-12T00:00:00"
         ],
         "xaxis": "x",
         "y": [
          1,
          -1,
          3,
          -1,
          1,
          -1,
          3,
          3,
          1,
          -1,
          3,
          1
         ],
         "yaxis": "y"
        }
       ],
       "layout": {
        "barmode": "relative",
        "coloraxis": {
         "colorbar": {
          "title": {
           "text": "Points"
          }
         },
         "colorscale": [
          [
           0,
           "red"
          ],
          [
           0.5,
           "blue"
          ],
          [
           1,
           "green"
          ]
         ]
        },
        "height": 400,
        "legend": {
         "tracegroupgap": 0
        },
        "template": {
         "data": {
          "bar": [
           {
            "error_x": {
             "color": "#2a3f5f"
            },
            "error_y": {
             "color": "#2a3f5f"
            },
            "marker": {
             "line": {
              "color": "#E5ECF6",
              "width": 0.5
             },
             "pattern": {
              "fillmode": "overlay",
              "size": 10,
              "solidity": 0.2
             }
            },
            "type": "bar"
           }
          ],
          "barpolar": [
           {
            "marker": {
             "line": {
              "color": "#E5ECF6",
              "width": 0.5
             },
             "pattern": {
              "fillmode": "overlay",
              "size": 10,
              "solidity": 0.2
             }
            },
            "type": "barpolar"
           }
          ],
          "carpet": [
           {
            "aaxis": {
             "endlinecolor": "#2a3f5f",
             "gridcolor": "white",
             "linecolor": "white",
             "minorgridcolor": "white",
             "startlinecolor": "#2a3f5f"
            },
            "baxis": {
             "endlinecolor": "#2a3f5f",
             "gridcolor": "white",
             "linecolor": "white",
             "minorgridcolor": "white",
             "startlinecolor": "#2a3f5f"
            },
            "type": "carpet"
           }
          ],
          "choropleth": [
           {
            "colorbar": {
             "outlinewidth": 0,
             "ticks": ""
            },
            "type": "choropleth"
           }
          ],
          "contour": [
           {
            "colorbar": {
             "outlinewidth": 0,
             "ticks": ""
            },
            "colorscale": [
             [
              0,
              "#0d0887"
             ],
             [
              0.1111111111111111,
              "#46039f"
             ],
             [
              0.2222222222222222,
              "#7201a8"
             ],
             [
              0.3333333333333333,
              "#9c179e"
             ],
             [
              0.4444444444444444,
              "#bd3786"
             ],
             [
              0.5555555555555556,
              "#d8576b"
             ],
             [
              0.6666666666666666,
              "#ed7953"
             ],
             [
              0.7777777777777778,
              "#fb9f3a"
             ],
             [
              0.8888888888888888,
              "#fdca26"
             ],
             [
              1,
              "#f0f921"
             ]
            ],
            "type": "contour"
           }
          ],
          "contourcarpet": [
           {
            "colorbar": {
             "outlinewidth": 0,
             "ticks": ""
            },
            "type": "contourcarpet"
           }
          ],
          "heatmap": [
           {
            "colorbar": {
             "outlinewidth": 0,
             "ticks": ""
            },
            "colorscale": [
             [
              0,
              "#0d0887"
             ],
             [
              0.1111111111111111,
              "#46039f"
             ],
             [
              0.2222222222222222,
              "#7201a8"
             ],
             [
              0.3333333333333333,
              "#9c179e"
             ],
             [
              0.4444444444444444,
              "#bd3786"
             ],
             [
              0.5555555555555556,
              "#d8576b"
             ],
             [
              0.6666666666666666,
              "#ed7953"
             ],
             [
              0.7777777777777778,
              "#fb9f3a"
             ],
             [
              0.8888888888888888,
              "#fdca26"
             ],
             [
              1,
              "#f0f921"
             ]
            ],
            "type": "heatmap"
           }
          ],
          "heatmapgl": [
           {
            "colorbar": {
             "outlinewidth": 0,
             "ticks": ""
            },
            "colorscale": [
             [
              0,
              "#0d0887"
             ],
             [
              0.1111111111111111,
              "#46039f"
             ],
             [
              0.2222222222222222,
              "#7201a8"
             ],
             [
              0.3333333333333333,
              "#9c179e"
             ],
             [
              0.4444444444444444,
              "#bd3786"
             ],
             [
              0.5555555555555556,
              "#d8576b"
             ],
             [
              0.6666666666666666,
              "#ed7953"
             ],
             [
              0.7777777777777778,
              "#fb9f3a"
             ],
             [
              0.8888888888888888,
              "#fdca26"
             ],
             [
              1,
              "#f0f921"
             ]
            ],
            "type": "heatmapgl"
           }
          ],
          "histogram": [
           {
            "marker": {
             "pattern": {
              "fillmode": "overlay",
              "size": 10,
              "solidity": 0.2
             }
            },
            "type": "histogram"
           }
          ],
          "histogram2d": [
           {
            "colorbar": {
             "outlinewidth": 0,
             "ticks": ""
            },
            "colorscale": [
             [
              0,
              "#0d0887"
             ],
             [
              0.1111111111111111,
              "#46039f"
             ],
             [
              0.2222222222222222,
              "#7201a8"
             ],
             [
              0.3333333333333333,
              "#9c179e"
             ],
             [
              0.4444444444444444,
              "#bd3786"
             ],
             [
              0.5555555555555556,
              "#d8576b"
             ],
             [
              0.6666666666666666,
              "#ed7953"
             ],
             [
              0.7777777777777778,
              "#fb9f3a"
             ],
             [
              0.8888888888888888,
              "#fdca26"
             ],
             [
              1,
              "#f0f921"
             ]
            ],
            "type": "histogram2d"
           }
          ],
          "histogram2dcontour": [
           {
            "colorbar": {
             "outlinewidth": 0,
             "ticks": ""
            },
            "colorscale": [
             [
              0,
              "#0d0887"
             ],
             [
              0.1111111111111111,
              "#46039f"
             ],
             [
              0.2222222222222222,
              "#7201a8"
             ],
             [
              0.3333333333333333,
              "#9c179e"
             ],
             [
              0.4444444444444444,
              "#bd3786"
             ],
             [
              0.5555555555555556,
              "#d8576b"
             ],
             [
              0.6666666666666666,
              "#ed7953"
             ],
             [
              0.7777777777777778,
              "#fb9f3a"
             ],
             [
              0.8888888888888888,
              "#fdca26"
             ],
             [
              1,
              "#f0f921"
             ]
            ],
            "type": "histogram2dcontour"
           }
          ],
          "mesh3d": [
           {
            "colorbar": {
             "outlinewidth": 0,
             "ticks": ""
            },
            "type": "mesh3d"
           }
          ],
          "parcoords": [
           {
            "line": {
             "colorbar": {
              "outlinewidth": 0,
              "ticks": ""
             }
            },
            "type": "parcoords"
           }
          ],
          "pie": [
           {
            "automargin": true,
            "type": "pie"
           }
          ],
          "scatter": [
           {
            "fillpattern": {
             "fillmode": "overlay",
             "size": 10,
             "solidity": 0.2
            },
            "type": "scatter"
           }
          ],
          "scatter3d": [
           {
            "line": {
             "colorbar": {
              "outlinewidth": 0,
              "ticks": ""
             }
            },
            "marker": {
             "colorbar": {
              "outlinewidth": 0,
              "ticks": ""
             }
            },
            "type": "scatter3d"
           }
          ],
          "scattercarpet": [
           {
            "marker": {
             "colorbar": {
              "outlinewidth": 0,
              "ticks": ""
             }
            },
            "type": "scattercarpet"
           }
          ],
          "scattergeo": [
           {
            "marker": {
             "colorbar": {
              "outlinewidth": 0,
              "ticks": ""
             }
            },
            "type": "scattergeo"
           }
          ],
          "scattergl": [
           {
            "marker": {
             "colorbar": {
              "outlinewidth": 0,
              "ticks": ""
             }
            },
            "type": "scattergl"
           }
          ],
          "scattermapbox": [
           {
            "marker": {
             "colorbar": {
              "outlinewidth": 0,
              "ticks": ""
             }
            },
            "type": "scattermapbox"
           }
          ],
          "scatterpolar": [
           {
            "marker": {
             "colorbar": {
              "outlinewidth": 0,
              "ticks": ""
             }
            },
            "type": "scatterpolar"
           }
          ],
          "scatterpolargl": [
           {
            "marker": {
             "colorbar": {
              "outlinewidth": 0,
              "ticks": ""
             }
            },
            "type": "scatterpolargl"
           }
          ],
          "scatterternary": [
           {
            "marker": {
             "colorbar": {
              "outlinewidth": 0,
              "ticks": ""
             }
            },
            "type": "scatterternary"
           }
          ],
          "surface": [
           {
            "colorbar": {
             "outlinewidth": 0,
             "ticks": ""
            },
            "colorscale": [
             [
              0,
              "#0d0887"
             ],
             [
              0.1111111111111111,
              "#46039f"
             ],
             [
              0.2222222222222222,
              "#7201a8"
             ],
             [
              0.3333333333333333,
              "#9c179e"
             ],
             [
              0.4444444444444444,
              "#bd3786"
             ],
             [
              0.5555555555555556,
              "#d8576b"
             ],
             [
              0.6666666666666666,
              "#ed7953"
             ],
             [
              0.7777777777777778,
              "#fb9f3a"
             ],
             [
              0.8888888888888888,
              "#fdca26"
             ],
             [
              1,
              "#f0f921"
             ]
            ],
            "type": "surface"
           }
          ],
          "table": [
           {
            "cells": {
             "fill": {
              "color": "#EBF0F8"
             },
             "line": {
              "color": "white"
             }
            },
            "header": {
             "fill": {
              "color": "#C8D4E3"
             },
             "line": {
              "color": "white"
             }
            },
            "type": "table"
           }
          ]
         },
         "layout": {
          "annotationdefaults": {
           "arrowcolor": "#2a3f5f",
           "arrowhead": 0,
           "arrowwidth": 1
          },
          "autotypenumbers": "strict",
          "coloraxis": {
           "colorbar": {
            "outlinewidth": 0,
            "ticks": ""
           }
          },
          "colorscale": {
           "diverging": [
            [
             0,
             "#8e0152"
            ],
            [
             0.1,
             "#c51b7d"
            ],
            [
             0.2,
             "#de77ae"
            ],
            [
             0.3,
             "#f1b6da"
            ],
            [
             0.4,
             "#fde0ef"
            ],
            [
             0.5,
             "#f7f7f7"
            ],
            [
             0.6,
             "#e6f5d0"
            ],
            [
             0.7,
             "#b8e186"
            ],
            [
             0.8,
             "#7fbc41"
            ],
            [
             0.9,
             "#4d9221"
            ],
            [
             1,
             "#276419"
            ]
           ],
           "sequential": [
            [
             0,
             "#0d0887"
            ],
            [
             0.1111111111111111,
             "#46039f"
            ],
            [
             0.2222222222222222,
             "#7201a8"
            ],
            [
             0.3333333333333333,
             "#9c179e"
            ],
            [
             0.4444444444444444,
             "#bd3786"
            ],
            [
             0.5555555555555556,
             "#d8576b"
            ],
            [
             0.6666666666666666,
             "#ed7953"
            ],
            [
             0.7777777777777778,
             "#fb9f3a"
            ],
            [
             0.8888888888888888,
             "#fdca26"
            ],
            [
             1,
             "#f0f921"
            ]
           ],
           "sequentialminus": [
            [
             0,
             "#0d0887"
            ],
            [
             0.1111111111111111,
             "#46039f"
            ],
            [
             0.2222222222222222,
             "#7201a8"
            ],
            [
             0.3333333333333333,
             "#9c179e"
            ],
            [
             0.4444444444444444,
             "#bd3786"
            ],
            [
             0.5555555555555556,
             "#d8576b"
            ],
            [
             0.6666666666666666,
             "#ed7953"
            ],
            [
             0.7777777777777778,
             "#fb9f3a"
            ],
            [
             0.8888888888888888,
             "#fdca26"
            ],
            [
             1,
             "#f0f921"
            ]
           ]
          },
          "colorway": [
           "#636efa",
           "#EF553B",
           "#00cc96",
           "#ab63fa",
           "#FFA15A",
           "#19d3f3",
           "#FF6692",
           "#B6E880",
           "#FF97FF",
           "#FECB52"
          ],
          "font": {
           "color": "#2a3f5f"
          },
          "geo": {
           "bgcolor": "white",
           "lakecolor": "white",
           "landcolor": "#E5ECF6",
           "showlakes": true,
           "showland": true,
           "subunitcolor": "white"
          },
          "hoverlabel": {
           "align": "left"
          },
          "hovermode": "closest",
          "mapbox": {
           "style": "light"
          },
          "paper_bgcolor": "white",
          "plot_bgcolor": "#E5ECF6",
          "polar": {
           "angularaxis": {
            "gridcolor": "white",
            "linecolor": "white",
            "ticks": ""
           },
           "bgcolor": "#E5ECF6",
           "radialaxis": {
            "gridcolor": "white",
            "linecolor": "white",
            "ticks": ""
           }
          },
          "scene": {
           "xaxis": {
            "backgroundcolor": "#E5ECF6",
            "gridcolor": "white",
            "gridwidth": 2,
            "linecolor": "white",
            "showbackground": true,
            "ticks": "",
            "zerolinecolor": "white"
           },
           "yaxis": {
            "backgroundcolor": "#E5ECF6",
            "gridcolor": "white",
            "gridwidth": 2,
            "linecolor": "white",
            "showbackground": true,
            "ticks": "",
            "zerolinecolor": "white"
           },
           "zaxis": {
            "backgroundcolor": "#E5ECF6",
            "gridcolor": "white",
            "gridwidth": 2,
            "linecolor": "white",
            "showbackground": true,
            "ticks": "",
            "zerolinecolor": "white"
           }
          },
          "shapedefaults": {
           "line": {
            "color": "#2a3f5f"
           }
          },
          "ternary": {
           "aaxis": {
            "gridcolor": "white",
            "linecolor": "white",
            "ticks": ""
           },
           "baxis": {
            "gridcolor": "white",
            "linecolor": "white",
            "ticks": ""
           },
           "bgcolor": "#E5ECF6",
           "caxis": {
            "gridcolor": "white",
            "linecolor": "white",
            "ticks": ""
           }
          },
          "title": {
           "x": 0.05
          },
          "xaxis": {
           "automargin": true,
           "gridcolor": "white",
           "linecolor": "white",
           "ticks": "",
           "title": {
            "standoff": 15
           },
           "zerolinecolor": "white",
           "zerolinewidth": 2
          },
          "yaxis": {
           "automargin": true,
           "gridcolor": "white",
           "linecolor": "white",
           "ticks": "",
           "title": {
            "standoff": 15
           },
           "zerolinecolor": "white",
           "zerolinewidth": 2
          }
         }
        },
        "title": {
         "text": "Chelsea Game Results Based on Points"
        },
        "xaxis": {
         "anchor": "y",
         "domain": [
          0,
          1
         ],
         "title": {
          "text": "Date"
         }
        },
        "yaxis": {
         "anchor": "x",
         "domain": [
          0,
          1
         ],
         "range": [
          -3,
          3
         ],
         "title": {
          "text": "Points"
         }
        }
       }
      }
     },
     "metadata": {},
     "output_type": "display_data"
    }
   ],
   "source": [
    "import plotly.express as px\n",
    "\n",
    "# Create a bar chart for Chelsea's games\n",
    "fig = px.bar(\n",
    "    chelsea_games,\n",
    "    x='Date',\n",
    "    y='Plot Points',\n",
    "    title='Chelsea Game Results Based on Points',\n",
    "    labels={'Date': 'Date', 'Plot Points': 'Points'},\n",
    "    color='Points',  # Color bars based on points\n",
    "    color_continuous_scale=['red', 'blue', 'green'],  # Define colors for points\n",
    "    text='Result',  # Display result labels on hover\n",
    "    height=400,  # Adjust the chart height\n",
    "    range_y=[-3, 3]  # Set the y-axis range to include negative values\n",
    ")\n",
    "\n",
    "# Define a custom hover template with Date, Points, Result, Goals Scored, Goals Conceded, and Opponent\n",
    "fig.update_traces(\n",
    "    hovertemplate=\"Date: %{x}<br>Points: %{y}<br>Result: %{text}<br>Goals Scored: %{customdata[0]}<br>Goals Conceded: %{customdata[1]}<br>Opponent: %{customdata[2]}\"\n",
    ")\n",
    "\n",
    "# Add Goals Scored, Goals Conceded, and Opponent as custom data to the plot\n",
    "fig.data[0].update(customdata=chelsea_games[['Goals Scored', 'Goals Conceded', 'Opponent']])\n",
    "\n",
    "# Show the chart\n",
    "fig.show()"
   ]
  },
  {
   "cell_type": "markdown",
   "metadata": {},
   "source": [
    "Lliga Standings"
   ]
  },
  {
   "cell_type": "code",
   "execution_count": 8,
   "metadata": {},
   "outputs": [
    {
     "name": "stdout",
     "output_type": "stream",
     "text": [
      "                        Team  Wins  Draws  Losses  Points  GS  GC  GD\n",
      "0            Manchester City     9      1       2      28  32  12  20\n",
      "1                    Arsenal     8      3       1      27  26  10  16\n",
      "2                  Liverpool     8      3       1      27  27  10  17\n",
      "3          Tottenham Hotspur     8      2       2      26  24  15   9\n",
      "4                Aston Villa     8      1       3      25  29  17  12\n",
      "5          Manchester United     7      0       5      21  13  16  -3\n",
      "6                  Newcastle     6      2       4      20  27  13  14\n",
      "7   Brighton and Hove Albion     5      4       3      19  25  21   4\n",
      "8            West Ham United     5      2       5      17  21  22  -1\n",
      "9                  Brentford     4      4       4      16  19  17   2\n",
      "10                   Chelsea     4      4       4      16  21  16   5\n",
      "11   Wolverhampton Wanderers     4      3       5      15  16  20  -4\n",
      "12            Crystal Palace     4      3       5      15  12  16  -4\n",
      "13                   Everton     4      2       6      14  14  17  -3\n",
      "14         Nottingham Forest     3      4       5      13  14  18  -4\n",
      "15                    Fulham     3      3       6      12  10  20 -10\n",
      "16               Bournemouth     2      3       7       9  11  27 -16\n",
      "17                     Luton     1      3       8       6  10  22 -12\n",
      "18          Sheffield United     1      2       9       5  10  31 -21\n",
      "19                   Burnley     1      1      10       4   9  30 -21\n"
     ]
    }
   ],
   "source": [
    "# Define the start date\n",
    "start_date = datetime.datetime(2023, 8, 8)\n",
    "\n",
    "# Filter the DataFrame to include only matches from Spain (La Liga) and after the start date\n",
    "spain_matches = transformed_df[(transformed_df['Country'] == 'England') & (transformed_df['Date'] >= start_date)]\n",
    "\n",
    "# Calculate the points, wins, draws, losses, goal scored (GS), goal conceded (GC), and goal difference (GD) for each team\n",
    "team_stats = {}\n",
    "for index, row in spain_matches.iterrows():\n",
    "    team = row['Team']\n",
    "    result = row['Result']\n",
    "    goals_scored = row['Goals Scored']\n",
    "    goals_conceded = row['Goals Conceded']\n",
    "    \n",
    "    if team in team_stats:\n",
    "        team_stats[team]['Points'] += 3 if result == 'W' else 1 if result == 'D' else 0\n",
    "        if result == 'W':\n",
    "            team_stats[team]['Wins'] += 1\n",
    "        elif result == 'D':\n",
    "            team_stats[team]['Draws'] += 1\n",
    "        else:\n",
    "            team_stats[team]['Losses'] += 1\n",
    "        team_stats[team]['GS'] += goals_scored\n",
    "        team_stats[team]['GC'] += goals_conceded\n",
    "    else:\n",
    "        points = 3 if result == 'W' else 1 if result == 'D' else 0\n",
    "        wins = 1 if result == 'W' else 0\n",
    "        draws = 1 if result == 'D' else 0\n",
    "        losses = 1 if result == 'L' else 0\n",
    "        team_stats[team] = {\n",
    "            'Points': points,\n",
    "            'Wins': wins,\n",
    "            'Draws': draws,\n",
    "            'Losses': losses,\n",
    "            'GS': goals_scored,\n",
    "            'GC': goals_conceded,\n",
    "        }\n",
    "\n",
    "# Calculate the Goal Difference (GD) for each team\n",
    "for team in team_stats:\n",
    "    team_stats[team]['GD'] = team_stats[team]['GS'] - team_stats[team]['GC']\n",
    "\n",
    "# Create a DataFrame for the standings\n",
    "standings_df = pd.DataFrame(list(team_stats.values()), index=team_stats.keys())\n",
    "standings_df.index.name = 'Team'\n",
    "standings_df.reset_index(inplace=True)\n",
    "\n",
    "# Sort the DataFrame by Points in descending order\n",
    "standings_df = standings_df.sort_values(by='Points', ascending=False).reset_index(drop=True)\n",
    "\n",
    "# Display the La Liga standings with Wins, Draws, Losses, Points, GS, GC, and GD\n",
    "print(standings_df[['Team', 'Wins', 'Draws', 'Losses', 'Points', 'GS', 'GC', 'GD']])\n"
   ]
  },
  {
   "cell_type": "markdown",
   "metadata": {},
   "source": [
    "Elo Rating"
   ]
  },
  {
   "cell_type": "code",
   "execution_count": 9,
   "metadata": {},
   "outputs": [
    {
     "name": "stdout",
     "output_type": "stream",
     "text": [
      "Team: Manchester City, Elo Rating: 1734.2188106920669\n",
      "Team: Bayer Leverkusen, Elo Rating: 1700.668432972997\n",
      "Team: Bayern Munich, Elo Rating: 1694.4508001192714\n",
      "Team: Liverpool, Elo Rating: 1692.215306601058\n",
      "Team: Benfica, Elo Rating: 1686.9792698542851\n",
      "Team: Girona, Elo Rating: 1683.5719814980116\n",
      "Team: Inter Milan, Elo Rating: 1680.2211176311762\n",
      "Team: Real Madrid, Elo Rating: 1679.3839033356696\n",
      "Team: Arsenal, Elo Rating: 1673.7160943838746\n",
      "Team: Juventus, Elo Rating: 1672.5745748257168\n",
      "Team: Paris Saint-Germain, Elo Rating: 1663.4664418578461\n",
      "Team: Sporting CP, Elo Rating: 1656.9417124325219\n",
      "Team: Barcelona, Elo Rating: 1655.101681893618\n",
      "Team: Nice, Elo Rating: 1649.1505131619529\n",
      "Team: Aston Villa, Elo Rating: 1648.1858309855415\n",
      "Team: Atletico Madrid, Elo Rating: 1635.5514895086349\n",
      "Team: Manchester United, Elo Rating: 1608.1347621911484\n",
      "Team: Braga, Elo Rating: 1606.3707737939644\n",
      "Team: Newcastle, Elo Rating: 1605.4406737656093\n",
      "Team: FC Porto, Elo Rating: 1603.0770930235326\n",
      "Team: Tottenham Hotspur, Elo Rating: 1595.0258080578471\n",
      "Team: Moreirense, Elo Rating: 1593.6736554081576\n",
      "Team: Monaco, Elo Rating: 1591.3795244741511\n",
      "Team: RB Leipzig, Elo Rating: 1586.957796775116\n",
      "Team: Stuttgart, Elo Rating: 1581.8768608468395\n",
      "Team: Athletic Bilbao, Elo Rating: 1571.0507931030775\n",
      "Team: Lille, Elo Rating: 1570.6969675568905\n",
      "Team: Borussia Dortmund, Elo Rating: 1568.5812554193362\n",
      "Team: Real Sociedad, Elo Rating: 1565.9322781186\n",
      "Team: Eintracht Frankfurt, Elo Rating: 1561.395454228941\n"
     ]
    }
   ],
   "source": [
    "import pandas as pd\n",
    "\n",
    "# Assuming 'transformed_df' contains your dataset\n",
    "# Initialize Elo ratings for all teams\n",
    "elo_ratings = {team: 1500 for team in transformed_df['Team'].unique()}\n",
    "\n",
    "# Define the K-factor (you can adjust this based on your preference)\n",
    "k_factor = 32\n",
    "\n",
    "# Define a function to calculate expected outcome\n",
    "def calculate_expected_outcome(team_rating, opponent_rating):\n",
    "    return 1 / (1 + 10 ** ((opponent_rating - team_rating) / 400))\n",
    "\n",
    "# Iterate through the matches in your dataset\n",
    "for index, match in transformed_df.iterrows():\n",
    "    team = match['Team']\n",
    "    opponent = match['Opponent']\n",
    "    result = match['Result']\n",
    "\n",
    "    # Calculate expected outcomes\n",
    "    expected_team = calculate_expected_outcome(elo_ratings[team], elo_ratings[opponent])\n",
    "    expected_opponent = calculate_expected_outcome(elo_ratings[opponent], elo_ratings[team])\n",
    "\n",
    "    # Update Elo ratings based on the match result\n",
    "    if result == 'W':\n",
    "        elo_ratings[team] += k_factor * (1 - expected_team)\n",
    "        elo_ratings[opponent] += k_factor * (0 - expected_opponent)\n",
    "    elif result == 'L':\n",
    "        elo_ratings[team] += k_factor * (0 - expected_team)\n",
    "        elo_ratings[opponent] += k_factor * (1 - expected_opponent)\n",
    "    else:  # It's a draw\n",
    "        elo_ratings[team] += k_factor * (0.5 - expected_team)\n",
    "        elo_ratings[opponent] += k_factor * (0.5 - expected_opponent)\n",
    "\n",
    "# After the loop, 'elo_ratings' will contain the updated Elo ratings for each team\n",
    "\n",
    "# Sort the Elo ratings dictionary by ratings in descending order\n",
    "sorted_elo_ratings = dict(sorted(elo_ratings.items(), key=lambda item: item[1], reverse=True))\n",
    "\n",
    "# Display the teams with the highest Elo ratings\n",
    "top_teams = list(sorted_elo_ratings.keys())[:30]  # Change the number to display more or fewer teams\n",
    "for team in top_teams:\n",
    "    print(f'Team: {team}, Elo Rating: {sorted_elo_ratings[team]}')\n"
   ]
  },
  {
   "cell_type": "code",
   "execution_count": 10,
   "metadata": {},
   "outputs": [
    {
     "name": "stdout",
     "output_type": "stream",
     "text": [
      "{'Crystal Palace': 1472.531632886228, 'Arsenal': 1673.7160943838746, 'Southampton': 1295.2230120654244, 'Nottingham Forest': 1464.1815646902223, 'Newcastle': 1605.4406737656093, 'Wolverhampton Wanderers': 1503.3233196783046, 'Leeds United': 1317.7544108800473, 'Tottenham Hotspur': 1595.0258080578471, 'Fulham': 1438.1305007354233, 'Chelsea': 1518.1365564837488, 'Everton': 1485.7812263075984, 'Aston Villa': 1648.1858309855415, 'Bournemouth': 1393.7712490667006, 'Liverpool': 1692.215306601058, 'Manchester City': 1734.2188106920669, 'West Ham United': 1480.704984482343, 'Brighton and Hove Albion': 1546.48106327031, 'Manchester United': 1608.1347621911484, 'Leicester City': 1401.936140837872, 'Brentford': 1536.4956075983264, 'Valencia': 1492.4587165212436, 'Sevilla': 1474.4220974623265, 'Rayo Vallecano': 1530.360303640463, 'Almeria': 1292.887449409348, 'Famalicao': 1505.24464708609, 'Nice': 1649.1505131619529, 'Lille': 1570.6969675568905, 'Burnley': 1320.5955857663373, 'Braga': 1606.3707737939644, 'Gil Vicente': 1431.2535116166096, 'Portimonense': 1499.679542069314, 'Casa Pia': 1404.6210948162302, 'Vizela': 1452.8505001648746, 'Athletic Bilbao': 1571.0507931030775, 'Sporting CP': 1656.9417124325219, 'Las Palmas': 1520.9645601569757, 'Real Mallorca': 1429.6819726423578, 'Real Sociedad': 1565.9322781186, 'Girona': 1683.5719814980116, 'Lorient': 1419.2711760641596, 'Real Madrid': 1679.3839033356696, 'Paris Saint-Germain': 1663.4664418578461, 'SC Farense': 1516.2907249851319, 'Marseille': 1470.9839461211197, 'Luton': 1382.9854706624935, 'Reims': 1549.5688601301765, 'Sheffield United': 1385.030387911474, 'Lyon': 1407.3350921577596, 'Arouca': 1351.8602300626721, 'Estoril': 1444.6601677485635, 'Estrela': 1455.326687095835, 'Vitoria Guimaraes': 1523.8585183502128, 'Rio Ave': 1424.2484276730802, 'Osasuna': 1449.9796324421202, 'Celta Vigo': 1372.4367810434549, 'Getafe': 1491.8944895111615, 'Barcelona': 1655.101681893618, 'Villarreal': 1417.6680679588333, 'Strasbourg': 1439.130486327391, 'Chaves': 1390.081361241648, 'Metz': 1457.2696870730172, 'Real Betis': 1554.8733232343884, 'Toulouse': 1447.1769581948265, 'Rennes': 1420.2607205272482, 'RC Lens': 1540.4810651293278, 'Clermont': 1441.2714516963704, 'Monaco': 1591.3795244741511, 'Montpellier': 1499.6964945928746, 'Le Havre': 1499.8011699854956, 'Nantes': 1448.6281525918894, 'Brest': 1484.4312923575033, 'Alaves': 1420.8862626943342, 'Cadiz': 1401.3695669649924, 'Granada': 1359.5246488603893, 'Atletico Madrid': 1635.5514895086349, 'FC Porto': 1603.0770930235326, 'Benfica': 1686.9792698542851, 'Boavista': 1452.9820825772765, 'Moreirense': 1593.6736554081576, 'Werder Bremen': 1446.954668022408, 'Bayern Munich': 1694.4508001192714, 'Empoli': 1435.9513575730732, 'Verona': 1350.4076715904273, 'Frosinone': 1459.734709706291, 'Napoli': 1530.6584117405375, 'Genoa': 1448.3399163847662, 'Fiorentina': 1541.482302855146, 'Inter Milan': 1680.2211176311762, 'Monza': 1516.989981371762, '1. FC Heidenheim 1846': 1426.7909983825136, 'Wolfsburg': 1431.6981045624009, 'Stuttgart': 1581.8768608468395, 'Bochum': 1437.2782788535067, 'Hoffenheim': 1547.0652104838384, \"M'gladbach\": 1482.2852725882756, 'FC Augsburg': 1483.4722564629992, 'SC Freiburg': 1472.4910168795202, 'Borussia Dortmund': 1568.5812554193362, 'RB Leipzig': 1586.957796775116, 'Bayer Leverkusen': 1700.668432972997, 'Cologne': 1403.1363109749147, 'Roma': 1542.073699875523, 'Salernitana': 1344.5273748122304, 'Sassuolo': 1440.2328842834493, 'Atalanta': 1531.4817420893369, 'Udinese': 1486.0753951596005, 'Juventus': 1672.5745748257168, 'Lecce': 1449.380634289643, 'Lazio': 1539.374357619456, 'Eintracht Frankfurt': 1561.395454228941, 'SV Darmstadt 98': 1404.19233322948, '1. FC Union Berlin': 1348.5901087487841, 'Mainz': 1422.1148404488574, 'AC Milan': 1544.7409120225416, 'Torino': 1511.483719633665, 'Bologna': 1548.9853727060529, 'Cagliari': 1425.283863829605}\n"
     ]
    }
   ],
   "source": [
    "# Convert Elo ratings to a DataFrame\n",
    "elo_ratings_df = pd.DataFrame(list(elo_ratings.items()), columns=['Team', 'Elo Rating'])\n",
    "print(elo_ratings)"
   ]
  },
  {
   "cell_type": "code",
   "execution_count": 11,
   "metadata": {},
   "outputs": [
    {
     "name": "stdout",
     "output_type": "stream",
     "text": [
      "                 Goals Scored  Goals Conceded\n",
      "Team                                         \n",
      "Atletico Madrid      2.416667        1.000000\n",
      "Girona               2.384615        1.230769\n",
      "Real Madrid          2.153846        0.692308\n",
      "Barcelona            2.000000        1.000000\n",
      "Athletic Bilbao      1.923077        1.307692\n",
      "Real Sociedad        1.769231        1.230769\n",
      "Sevilla              1.500000        1.416667\n",
      "Granada              1.384615        2.307692\n",
      "Villarreal           1.384615        1.846154\n",
      "Real Betis           1.307692        1.230769\n",
      "Valencia             1.230769        1.384615\n",
      "Getafe               1.153846        1.307692\n",
      "Almeria              1.153846        2.692308\n",
      "Osasuna              1.153846        1.615385\n",
      "Rayo Vallecano       1.153846        1.307692\n",
      "Celta Vigo           1.076923        1.846154\n",
      "Real Mallorca        1.000000        1.500000\n",
      "Alaves               0.846154        1.384615\n",
      "Las Palmas           0.846154        0.923077\n",
      "Cadiz                0.833333        1.416667\n"
     ]
    }
   ],
   "source": [
    "# Filter the DataFrame to include only teams from England\n",
    "england_teams = transformed_df[transformed_df['Country'] == 'Spain']\n",
    "\n",
    "# Group the England teams by 'Team' and calculate the mean of 'Goals Scored' and 'Goals Conceded'\n",
    "average_goals_england = england_teams.groupby('Team')[['Goals Scored', 'Goals Conceded']].mean()\n",
    "\n",
    "# Sort the DataFrame by average goals scored in descending order\n",
    "average_goals_england = average_goals_england.sort_values(by='Goals Scored', ascending=False)\n",
    "\n",
    "# Print the result\n",
    "print(average_goals_england)\n"
   ]
  },
  {
   "cell_type": "code",
   "execution_count": 12,
   "metadata": {},
   "outputs": [
    {
     "name": "stdout",
     "output_type": "stream",
     "text": [
      "Team                     Opponent           \n",
      "1. FC Heidenheim 1846    1. FC Union Berlin     {'1. FC Heidenheim 1846': {'1. FC Union Berlin...\n",
      "                         Bayer Leverkusen       {'1. FC Heidenheim 1846': {'Bayer Leverkusen':...\n",
      "                         Bayern Munich          {'1. FC Heidenheim 1846': {'Bayern Munich': [2]}}\n",
      "                         Borussia Dortmund      {'1. FC Heidenheim 1846': {'Borussia Dortmund'...\n",
      "                         Eintracht Frankfurt    {'1. FC Heidenheim 1846': {'Eintracht Frankfur...\n",
      "                                                                      ...                        \n",
      "Wolverhampton Wanderers  Nottingham Forest      {'Wolverhampton Wanderers': {'Nottingham Fores...\n",
      "                         Sheffield United       {'Wolverhampton Wanderers': {'Sheffield United...\n",
      "                         Southampton            {'Wolverhampton Wanderers': {'Southampton': [1...\n",
      "                         Tottenham Hotspur      {'Wolverhampton Wanderers': {'Tottenham Hotspu...\n",
      "                         West Ham United        {'Wolverhampton Wanderers': {'West Ham United'...\n",
      "Length: 1552, dtype: object\n"
     ]
    }
   ],
   "source": [
    "# Create a function to calculate head-to-head statistics\n",
    "def calculate_head_to_head_stats(data):\n",
    "    # Create a dictionary to store head-to-head statistics\n",
    "    head_to_head_stats = {}\n",
    "\n",
    "    for index, row in data.iterrows():\n",
    "        team = row['Team']\n",
    "        opponent = row['Opponent']\n",
    "        goals_scored = row['Goals Scored']\n",
    "\n",
    "        # Check if this is the first encounter between the teams\n",
    "        if team not in head_to_head_stats:\n",
    "            head_to_head_stats[team] = {}\n",
    "        if opponent not in head_to_head_stats[team]:\n",
    "            head_to_head_stats[team][opponent] = []\n",
    "\n",
    "        # Append the goals scored by the team in this match\n",
    "        head_to_head_stats[team][opponent].append(goals_scored)\n",
    "\n",
    "    return head_to_head_stats\n",
    "\n",
    "# Apply the function to your DataFrame\n",
    "head_to_head_stats = transformed_df.groupby(['Team', 'Opponent']).apply(calculate_head_to_head_stats)\n",
    "\n",
    "# Display the head-to-head statistics\n",
    "print(head_to_head_stats)\n"
   ]
  },
  {
   "cell_type": "code",
   "execution_count": 13,
   "metadata": {},
   "outputs": [
    {
     "name": "stdout",
     "output_type": "stream",
     "text": [
      "Index(['Date', 'Team', 'Goals Scored', 'Goals Conceded', 'Opponent',\n",
      "       'Match ID', 'Fixture', 'Country', 'Result', 'Points', 'Streak',\n",
      "       'Continuous Streak', 'Plot Points', 'Elo Rating'],\n",
      "      dtype='object')\n"
     ]
    }
   ],
   "source": [
    "transformed_df = pd.merge(transformed_df, elo_ratings_df, on='Team', how='left')\n",
    "\n",
    "# Now you have Elo Ratings associated with the respective teams in your 'transformed_df' DataFrame.\n",
    "# Calculate opponent strength based on Elo ratings\n",
    "print(transformed_df.columns)\n",
    "\n"
   ]
  },
  {
   "cell_type": "code",
   "execution_count": 14,
   "metadata": {},
   "outputs": [
    {
     "name": "stdout",
     "output_type": "stream",
     "text": [
      "           Date               Team           Opponent   Elo Rating  \\\n",
      "0    2022-08-05     Crystal Palace            Arsenal  1472.531633   \n",
      "1    2022-08-05            Arsenal     Crystal Palace  1673.716094   \n",
      "2    2022-08-06        Southampton  Tottenham Hotspur  1295.223012   \n",
      "3    2022-08-06  Nottingham Forest          Newcastle  1464.181565   \n",
      "4    2022-08-06          Newcastle  Nottingham Forest  1605.440674   \n",
      "...         ...                ...                ...          ...   \n",
      "2097 2023-11-12              Lazio               Roma  1539.374358   \n",
      "2098 2023-11-12               Roma              Lazio  1542.073700   \n",
      "2099 2023-11-12        Inter Milan          Frosinone  1680.221118   \n",
      "2100 2023-11-12        Gil Vicente            Rio Ave  1431.253512   \n",
      "2101 2023-11-12    Manchester City            Chelsea  1734.218811   \n",
      "\n",
      "      Opponent_Strength  \n",
      "0           1573.123864  \n",
      "1           1573.123864  \n",
      "2           1496.430788  \n",
      "3           1496.430788  \n",
      "4           1496.430788  \n",
      "...                 ...  \n",
      "2097        1515.313629  \n",
      "2098        1515.313629  \n",
      "2099        1515.313629  \n",
      "2100        1515.313629  \n",
      "2101        1515.313629  \n",
      "\n",
      "[2102 rows x 5 columns]\n"
     ]
    }
   ],
   "source": [
    "# Calculate opponent strength based on Elo ratings\n",
    "transformed_df['Opponent_Strength'] = transformed_df.groupby('Date')['Elo Rating'].transform('mean')\n",
    "\n",
    "# Display the DataFrame with opponent strength\n",
    "print(transformed_df[['Date', 'Team', 'Opponent', 'Elo Rating', 'Opponent_Strength']])\n"
   ]
  },
  {
   "cell_type": "code",
   "execution_count": 15,
   "metadata": {},
   "outputs": [
    {
     "name": "stderr",
     "output_type": "stream",
     "text": [
      "C:\\Users\\USER\\AppData\\Local\\Temp\\ipykernel_15716\\1300298048.py:10: SettingWithCopyWarning:\n",
      "\n",
      "\n",
      "A value is trying to be set on a copy of a slice from a DataFrame.\n",
      "Try using .loc[row_indexer,col_indexer] = value instead\n",
      "\n",
      "See the caveats in the documentation: https://pandas.pydata.org/pandas-docs/stable/user_guide/indexing.html#returning-a-view-versus-a-copy\n",
      "\n",
      "C:\\Users\\USER\\AppData\\Local\\Temp\\ipykernel_15716\\1300298048.py:13: SettingWithCopyWarning:\n",
      "\n",
      "\n",
      "A value is trying to be set on a copy of a slice from a DataFrame.\n",
      "Try using .loc[row_indexer,col_indexer] = value instead\n",
      "\n",
      "See the caveats in the documentation: https://pandas.pydata.org/pandas-docs/stable/user_guide/indexing.html#returning-a-view-versus-a-copy\n",
      "\n"
     ]
    },
    {
     "data": {
      "image/png": "[encoded data removed]",
      "text/plain": [
       "<Figure size 640x480 with 1 Axes>"
      ]
     },
     "metadata": {},
     "output_type": "display_data"
    }
   ],
   "source": [
    "import pandas as pd\n",
    "import matplotlib.pyplot as plt\n",
    "\n",
    "\n",
    "# Filter the DataFrame for 'Manchester City,' 'Manchester United,' and 'Bournemouth'\n",
    "selected_teams = ['Manchester City', 'Manchester United', 'Bournemouth']\n",
    "filtered_df = transformed_df[transformed_df['Team'].isin(selected_teams)]\n",
    "\n",
    "# Calculate the Elo Rating Difference\n",
    "filtered_df['Elo_Rating_Diff'] = filtered_df['Elo Rating'] - filtered_df['Opponent_Strength']\n",
    "\n",
    "# Calculate the Average Elo Rating Difference over time\n",
    "filtered_df['Average_Elo_Rating_Diff'] = filtered_df.groupby('Team')['Elo_Rating_Diff'].expanding().mean().reset_index()['Elo_Rating_Diff']\n",
    "\n",
    "# Create a line chart\n",
    "for team in selected_teams:\n",
    "    team_data = filtered_df[filtered_df['Team'] == team]\n",
    "    plt.plot(team_data['Date'], team_data['Elo_Rating_Diff'], label=f'{team} Elo Rating Diff')\n",
    "\n",
    "plt.xlabel('Date')\n",
    "plt.ylabel('Elo Rating Difference')\n",
    "plt.title('Elo Rating Difference Over Time')\n",
    "plt.legend()\n",
    "plt.show()\n"
   ]
  },
  {
   "cell_type": "code",
   "execution_count": 16,
   "metadata": {},
   "outputs": [
    {
     "name": "stdout",
     "output_type": "stream",
     "text": [
      "           Date               Team           Opponent   Elo Rating  \\\n",
      "0    2022-08-05     Crystal Palace            Arsenal  1472.531633   \n",
      "1    2022-08-05            Arsenal     Crystal Palace  1673.716094   \n",
      "2    2022-08-06        Southampton  Tottenham Hotspur  1295.223012   \n",
      "3    2022-08-06  Nottingham Forest          Newcastle  1464.181565   \n",
      "4    2022-08-06          Newcastle  Nottingham Forest  1605.440674   \n",
      "...         ...                ...                ...          ...   \n",
      "2097 2023-11-12              Lazio               Roma  1539.374358   \n",
      "2098 2023-11-12               Roma              Lazio  1542.073700   \n",
      "2099 2023-11-12        Inter Milan          Frosinone  1680.221118   \n",
      "2100 2023-11-12        Gil Vicente            Rio Ave  1431.253512   \n",
      "2101 2023-11-12    Manchester City            Chelsea  1734.218811   \n",
      "\n",
      "      Opponent_Strength  Win_Prob_Home  Win_Prob_Away  \n",
      "0           1573.123864       0.359150       0.640850  \n",
      "1           1573.123864       0.640850       0.359150  \n",
      "2           1496.430788       0.238986       0.761014  \n",
      "3           1496.430788       0.453722       0.546278  \n",
      "4           1496.430788       0.651925       0.348075  \n",
      "...                 ...            ...            ...  \n",
      "2097        1515.313629       0.534571       0.465429  \n",
      "2098        1515.313629       0.538435       0.461565  \n",
      "2099        1515.313629       0.720971       0.279029  \n",
      "2100        1515.313629       0.381334       0.618666  \n",
      "2101        1515.313629       0.779047       0.220953  \n",
      "\n",
      "[2102 rows x 7 columns]\n"
     ]
    }
   ],
   "source": [
    "import math\n",
    "\n",
    "def calculate_win_probability(team_elo, opponent_elo):\n",
    "    elo_difference = opponent_elo - team_elo\n",
    "    win_probability = 1 / (1 + math.pow(10, elo_difference / 400))\n",
    "    return win_probability\n",
    "\n",
    "# Assuming your DataFrame is named 'transformed_df'\n",
    "transformed_df['Win_Prob_Home'] = transformed_df.apply(\n",
    "    lambda row: calculate_win_probability(row['Elo Rating'], row['Opponent_Strength']),\n",
    "    axis=1\n",
    ")\n",
    "\n",
    "transformed_df['Win_Prob_Away'] = transformed_df.apply(\n",
    "    lambda row: calculate_win_probability(row['Opponent_Strength'], row['Elo Rating']),\n",
    "    axis=1\n",
    ")\n",
    "\n",
    "print(transformed_df[['Date', 'Team', 'Opponent', 'Elo Rating', 'Opponent_Strength', 'Win_Prob_Home', 'Win_Prob_Away']])"
   ]
  },
  {
   "cell_type": "code",
   "execution_count": 17,
   "metadata": {},
   "outputs": [],
   "source": [
    "import pandas as pd\n",
    "\n",
    "# Group all teams by 'Team' and calculate the mean of 'Goals Scored' and 'Goals Conceded' for each team\n",
    "average_goals_all_countries = transformed_df.groupby('Team')[['Goals Scored', 'Goals Conceded']].mean()\n",
    "\n",
    "# Sort the DataFrame by average goals scored in descending order\n",
    "average_goals_all_countries = average_goals_all_countries.sort_values(by='Goals Scored', ascending=False)\n",
    "\n",
    "# Rename the columns for clarity\n",
    "average_goals_all_countries = average_goals_all_countries.rename(columns={'Goals Scored': 'Average_Goals_Scored', 'Goals Conceded': 'Average_Goals_Conceded'})\n",
    "\n",
    "# Merge the average goals DataFrame with 'transformed_df' based on the 'Team' column\n",
    "transformed_df = transformed_df.merge(average_goals_all_countries, left_on='Team', right_index=True)\n",
    "\n",
    "# Group all teams by 'Opponent' and calculate the mean of 'Goals Scored' and 'Goals Conceded' for each opponent\n",
    "average_goals_opponent = transformed_df.groupby('Opponent')[['Goals Scored', 'Goals Conceded']].mean()\n",
    "\n",
    "# Rename the columns for clarity\n",
    "average_goals_opponent = average_goals_opponent.rename(columns={'Goals Scored': 'Average_Goals_Scored_Opponent', 'Goals Conceded': 'Average_Goals_Conceded_Opponent'})\n",
    "\n",
    "# Merge the opponent's average goals DataFrame with 'transformed_df' based on the 'Opponent' column\n",
    "transformed_df = transformed_df.merge(average_goals_opponent, left_on='Opponent', right_index=True)\n"
   ]
  },
  {
   "cell_type": "code",
   "execution_count": 18,
   "metadata": {},
   "outputs": [
    {
     "name": "stdout",
     "output_type": "stream",
     "text": [
      "0         Arsenal\n",
      "539       Arsenal\n",
      "946       Arsenal\n",
      "229       Arsenal\n",
      "613       Arsenal\n",
      "          ...    \n",
      "954     Stuttgart\n",
      "1494    Stuttgart\n",
      "1296    Stuttgart\n",
      "1719    Stuttgart\n",
      "1229    Stuttgart\n",
      "Name: Opponent, Length: 2102, dtype: object\n"
     ]
    }
   ],
   "source": [
    "transformed_df['Team'] = transformed_df['Team'].str.replace(\" \", \"\")\n",
    "transformed_df['Opponent'] = transformed_df['Opponent'].str.replace(\" \", \"\")\n",
    "\n",
    "print(transformed_df.Opponent)"
   ]
  },
  {
   "cell_type": "markdown",
   "metadata": {},
   "source": [
    "Model Prediction"
   ]
  },
  {
   "cell_type": "code",
   "execution_count": 19,
   "metadata": {},
   "outputs": [],
   "source": [
    "# Assuming you have columns for \"Goals Scored\" and \"Goals Conceded\" in your DataFrame\n",
    "transformed_df['TotalGoals'] = transformed_df['Goals Scored'] + transformed_df['Goals Conceded']\n",
    "\n"
   ]
  },
  {
   "cell_type": "code",
   "execution_count": 20,
   "metadata": {},
   "outputs": [
    {
     "name": "stdout",
     "output_type": "stream",
     "text": [
      "DataFrame has been exported to C:/Users/USER/OneDrive/Desktop/data analysis/Python/bigdata/transformed_data.xlsx\n"
     ]
    }
   ],
   "source": [
    "# Define the file path for the output Excel file\n",
    "output_file_path = \"C:/Users/USER/OneDrive/Desktop/data analysis/Python/bigdata/transformed_data.xlsx\"\n",
    "\n",
    "# Export the DataFrame to an Excel file\n",
    "transformed_df.to_excel(output_file_path, index=False)\n",
    "\n",
    "print(f\"DataFrame has been exported to {output_file_path}\")\n"
   ]
  },
  {
   "cell_type": "code",
   "execution_count": 21,
   "metadata": {},
   "outputs": [
    {
     "name": "stdout",
     "output_type": "stream",
     "text": [
      "Index(['Date', 'Team', 'Goals Scored', 'Goals Conceded', 'Opponent',\n",
      "       'Match ID', 'Fixture', 'Country', 'Result', 'Points', 'Streak',\n",
      "       'Continuous Streak', 'Plot Points', 'Elo Rating', 'Opponent_Strength',\n",
      "       'Win_Prob_Home', 'Win_Prob_Away', 'Average_Goals_Scored',\n",
      "       'Average_Goals_Conceded', 'Average_Goals_Scored_Opponent',\n",
      "       'Average_Goals_Conceded_Opponent', 'TotalGoals'],\n",
      "      dtype='object')\n"
     ]
    }
   ],
   "source": [
    "# Replace 'file_path' with the actual path to your Excel file\n",
    "file_path = \"C:/Users/USER/OneDrive/Desktop/data analysis/Python/bigdata/transformed_data.xlsx\"\n",
    "data = pd.read_excel(file_path)\n",
    "\n",
    "print(data.columns)"
   ]
  },
  {
   "cell_type": "markdown",
   "metadata": {},
   "source": [
    "Modeling\n"
   ]
  },
  {
   "cell_type": "code",
   "execution_count": 22,
   "metadata": {},
   "outputs": [
    {
     "name": "stdout",
     "output_type": "stream",
     "text": [
      "Mean Squared Error: 2.959297709026128\n"
     ]
    }
   ],
   "source": [
    "import pandas as pd\n",
    "from sklearn.model_selection import train_test_split\n",
    "from sklearn.ensemble import RandomForestRegressor\n",
    "from sklearn.metrics import mean_squared_error\n",
    "from sklearn.preprocessing import StandardScaler\n",
    "\n",
    "\n",
    "# Select only the columns you need in X\n",
    "X = data[['Average_Goals_Scored', 'Average_Goals_Conceded', 'Elo Rating', 'Opponent_Strength','Average_Goals_Scored_Opponent','Average_Goals_Conceded_Opponent' ]]\n",
    "\n",
    "y = data['TotalGoals']\n",
    "\n",
    "\n",
    "# Split the data into training and testing sets\n",
    "X_train, X_test, y_train, y_test = train_test_split(X, y, test_size=0.2, random_state=42)\n",
    "\n",
    "# Standardize the features\n",
    "scaler = StandardScaler()\n",
    "X_train = scaler.fit_transform(X_train)\n",
    "X_test = scaler.transform(X_test)\n",
    "\n",
    "# Train a Random Forest Regressor\n",
    "model = RandomForestRegressor(n_estimators=100, random_state=42)\n",
    "model.fit(X_train, y_train)\n",
    "\n",
    "# Make predictions\n",
    "y_pred = model.predict(X_test)\n",
    "\n",
    "# Evaluate the model\n",
    "mse = mean_squared_error(y_test, y_pred)\n",
    "print(f'Mean Squared Error: {mse}')"
   ]
  },
  {
   "cell_type": "code",
   "execution_count": 23,
   "metadata": {},
   "outputs": [
    {
     "data": {
      "text/plain": [
       "['model']"
      ]
     },
     "execution_count": 23,
     "metadata": {},
     "output_type": "execute_result"
    }
   ],
   "source": [
    "import joblib\n",
    "\n",
    "# Save the trained model to a file\n",
    "joblib.dump(model, 'model')"
   ]
  },
  {
   "cell_type": "code",
   "execution_count": 24,
   "metadata": {},
   "outputs": [
    {
     "name": "stdout",
     "output_type": "stream",
     "text": [
      "Feature Importances:\n",
      "Average_Goals_Scored: 0.1434875311658026\n",
      "Average_Goals_Conceded: 0.12268261084259613\n",
      "Elo Rating: 0.10932641014579776\n",
      "Opponent_Strength: 0.296366002724448\n",
      "Average_Goals_Scored_Opponent: 0.1545279816953831\n",
      "Average_Goals_Conceded_Opponent: 0.17360946342597244\n"
     ]
    }
   ],
   "source": [
    "# Print feature importances\n",
    "feature_importances = model.feature_importances_\n",
    "print(\"Feature Importances:\")\n",
    "for feature, importance in zip(X.columns, feature_importances):\n",
    "    print(f\"{feature}: {importance}\")\n"
   ]
  },
  {
   "cell_type": "code",
   "execution_count": 25,
   "metadata": {},
   "outputs": [],
   "source": [
    "# Replace 'file_path' with the actual path to your Excel file\n",
    "file_path = \"C:/Users/USER/OneDrive/Desktop/data analysis/Python/bigdata/transformed_data.xlsx\"\n",
    "transformed_data = pd.read_excel(file_path)"
   ]
  },
  {
   "cell_type": "code",
   "execution_count": 26,
   "metadata": {},
   "outputs": [
    {
     "name": "stdout",
     "output_type": "stream",
     "text": [
      "   Average_Goals_Scored  Average_Goals_Conceded   Elo Rating  \\\n",
      "0                  2.28                    1.06  1673.716094   \n",
      "\n",
      "   Average_Goals_Scored_Opponent  Average_Goals_Conceded_Opponent  \\\n",
      "0                           2.04                             1.14   \n",
      "\n",
      "   Opponent_Strength  \n",
      "0        1692.215307  \n"
     ]
    }
   ],
   "source": [
    "# Columns to be used for prediction\n",
    "selected_columns = [\n",
    "    'Average_Goals_Scored', 'Average_Goals_Conceded', 'Elo Rating',\n",
    "]\n",
    "\n",
    "# Create DataFrames for each team (replace 'Arsenal' and 'Luton' with the actual team names)\n",
    "team1_data = transformed_df[transformed_df['Team'] == 'Arsenal'][selected_columns]\n",
    "team2_data = transformed_df[transformed_df['Team'] == 'Liverpool'][selected_columns]\n",
    "\n",
    "# Ensure only unique columns are included\n",
    "team1_data = team1_data.loc[:, ~team1_data.columns.duplicated()]\n",
    "team2_data = team2_data.loc[:, ~team2_data.columns.duplicated()]\n",
    "\n",
    "# Replace Elo Rating for Team 2 with Opponent Strength\n",
    "team2_data['Opponent_Strength'] = team2_data['Elo Rating'].mean()\n",
    "team2_data.drop(['Elo Rating'], axis=1, inplace=True)\n",
    "\n",
    "# Rename columns for Team 2\n",
    "team2_data.columns = ['Average_Goals_Scored_Opponent', 'Average_Goals_Conceded_Opponent', 'Opponent_Strength']\n",
    "\n",
    "\n",
    "# Concatenate the input data for both teams\n",
    "input_data = pd.concat([team1_data.mean(), team2_data.mean()]).to_frame().T\n",
    "\n",
    "# Print the input_data\n",
    "print(input_data)\n",
    "\n"
   ]
  },
  {
   "cell_type": "code",
   "execution_count": 27,
   "metadata": {},
   "outputs": [
    {
     "name": "stdout",
     "output_type": "stream",
     "text": [
      "Predicted Total Goals: 3.17\n",
      "Prediction Result: Over 2.5\n"
     ]
    },
    {
     "name": "stderr",
     "output_type": "stream",
     "text": [
      "c:\\Users\\USER\\AppData\\Local\\Programs\\Python\\Python311\\Lib\\site-packages\\sklearn\\base.py:457: UserWarning:\n",
      "\n",
      "X has feature names, but RandomForestRegressor was fitted without feature names\n",
      "\n"
     ]
    }
   ],
   "source": [
    "import joblib\n",
    "\n",
    "# Load the trained model\n",
    "model = joblib.load('model')\n",
    "\n",
    "# Make the prediction\n",
    "predicted_total_goals = model.predict(input_data)\n",
    "\n",
    "# Set a lower limit of -1.2\n",
    "predicted_total_goals = max(predicted_total_goals[0] - 1.2, 0)  # Adjust the lower limit as needed\n",
    "\n",
    "# Print the predicted total goals\n",
    "print(\"Predicted Total Goals:\", predicted_total_goals)\n",
    "\n",
    "# Assuming you have calculated the sum of average goals scored and average goals scored by the opponent\n",
    "sum_of_goals = input_data['Average_Goals_Scored'].values[0] + input_data['Average_Goals_Scored_Opponent'].values[0]\n",
    "\n",
    "# Check if the sum is greater than the predicted total goals\n",
    "if sum_of_goals > predicted_total_goals:\n",
    "    prediction_result = \"Over 2.5\"\n",
    "else:\n",
    "    prediction_result = \"Not Certain\"\n",
    "\n",
    "# Print the prediction result\n",
    "print(\"Prediction Result:\", prediction_result)\n",
    "\n",
    "\n"
   ]
  }
 ],
 "metadata": {
  "kernelspec": {
   "display_name": "Python 3",
   "language": "python",
   "name": "python3"
  },
  "language_info": {
   "codemirror_mode": {
    "name": "ipython",
    "version": 3
   },
   "file_extension": ".py",
   "mimetype": "text/x-python",
   "name": "python",
   "nbconvert_exporter": "python",
   "pygments_lexer": "ipython3",
   "version": "3.11.3"
  }
 },
 "nbformat": 4,
 "nbformat_minor": 2
}
